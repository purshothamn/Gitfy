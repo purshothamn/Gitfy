{
 "metadata": {
  "language_info": {
   "codemirror_mode": {
    "name": "ipython",
    "version": 3
   },
   "file_extension": ".py",
   "mimetype": "text/x-python",
   "name": "python",
   "nbconvert_exporter": "python",
   "pygments_lexer": "ipython3",
   "version": "3.8.5-final"
  },
  "orig_nbformat": 2,
  "kernelspec": {
   "name": "python38532bit099717e7536b450684ecfcfaba3cb44d",
   "display_name": "Python 3.8.5 32-bit"
  }
 },
 "nbformat": 4,
 "nbformat_minor": 2,
 "cells": [
  {
   "cell_type": "code",
   "execution_count": 3,
   "metadata": {},
   "outputs": [],
   "source": [
    "from subprocess import *\n",
    "import re\n",
    "\n",
    "repoDir = r'D:\\Scripts\\Python\\webScrapping'\n",
    "\n",
    "def command(x):\n",
    "    return str(Popen(x.split(' '), stdout=PIPE).communicate()[0])"
   ]
  },
  {
   "cell_type": "code",
   "execution_count": 89,
   "metadata": {},
   "outputs": [],
   "source": [
    "c = command('git status')"
   ]
  },
  {
   "cell_type": "code",
   "execution_count": 68,
   "metadata": {},
   "outputs": [
    {
     "output_type": "execute_result",
     "data": {
      "text/plain": [
       "'b\\'On branch master\\\\nYour branch is up to date with \\\\\\'origin/master\\\\\\'.\\\\n\\\\nChanges not staged for commit:\\\\n  (use \"git add <file>...\" to update what will be committed)\\\\n  (use \"git restore <file>...\" to discard changes in working directory)\\\\n\\\\tmodified:   anime_webScrapping/testHtml.py\\\\n\\\\nUntracked files:\\\\n  (use \"git add <file>...\" to include in what will be committed)\\\\n\\\\tgitfy.ps1\\\\n\\\\ttest.py\\\\n\\\\nno changes added to commit (use \"git add\" and/or \"git commit -a\")\\\\n\\''"
      ]
     },
     "metadata": {},
     "execution_count": 68
    }
   ],
   "source": [
    "c"
   ]
  },
  {
   "cell_type": "code",
   "execution_count": 18,
   "metadata": {},
   "outputs": [
    {
     "output_type": "execute_result",
     "data": {
      "text/plain": [
       "True"
      ]
     },
     "metadata": {},
     "execution_count": 18
    }
   ],
   "source": [
    "'Untracked files:' in c"
   ]
  },
  {
   "cell_type": "code",
   "execution_count": 69,
   "metadata": {},
   "outputs": [],
   "source": [
    "s=c.split('Untracked files:')[1][1:].split(\"\\n\")"
   ]
  },
  {
   "cell_type": "code",
   "execution_count": 70,
   "metadata": {},
   "outputs": [],
   "source": [
    "f = s[0].split('\\\\n')"
   ]
  },
  {
   "cell_type": "code",
   "execution_count": 60,
   "metadata": {},
   "outputs": [
    {
     "output_type": "stream",
     "name": "stdout",
     "text": [
      "n  (use \"git add <file>...\" to include in what will be committed)\n\\tgitfy.ps1\n\\ttest.py\nj\nnothing added to commit but untracked files present (use \"git add\" to track)\nj\n"
     ]
    }
   ],
   "source": [
    "for e in f:\n",
    "    "
   ]
  },
  {
   "cell_type": "code",
   "execution_count": 44,
   "metadata": {},
   "outputs": [
    {
     "output_type": "execute_result",
     "data": {
      "text/plain": [
       "[]"
      ]
     },
     "metadata": {},
     "execution_count": 44
    }
   ],
   "source": [
    "re.findall('\\\\t',f[1])"
   ]
  },
  {
   "cell_type": "code",
   "execution_count": 62,
   "metadata": {},
   "outputs": [
    {
     "output_type": "execute_result",
     "data": {
      "text/plain": [
       "'#gitfy.ps1'"
      ]
     },
     "metadata": {},
     "execution_count": 62
    }
   ],
   "source": [
    "f[1].replace('\\\\t','#')"
   ]
  },
  {
   "cell_type": "code",
   "execution_count": 71,
   "metadata": {},
   "outputs": [
    {
     "output_type": "stream",
     "name": "stdout",
     "text": [
      "#gitfy.ps1\n#test.py\n"
     ]
    }
   ],
   "source": [
    "for e in f:\n",
    "    z = e.replace('\\\\t','#')\n",
    "    if re.findall('#.*',z):\n",
    "        print(z)"
   ]
  },
  {
   "cell_type": "code",
   "execution_count": 72,
   "metadata": {},
   "outputs": [
    {
     "output_type": "execute_result",
     "data": {
      "text/plain": [
       "\"b''\""
      ]
     },
     "metadata": {},
     "execution_count": 72
    }
   ],
   "source": [
    "command('git add anime_webScrapping/testHtml.py')"
   ]
  },
  {
   "cell_type": "code",
   "execution_count": 94,
   "metadata": {},
   "outputs": [
    {
     "output_type": "execute_result",
     "data": {
      "text/plain": [
       "['n  (use \"git add <file>...\" to update what will be committed)',\n",
       " '  (use \"git restore <file>...\" to discard changes in working directory)',\n",
       " '\\\\tmodified:   anime_webScrapping/testHtml.py',\n",
       " '',\n",
       " 'Untracked files:',\n",
       " '  (use \"git add <file>...\" to include in what will be committed)',\n",
       " '\\\\tgitfy.py',\n",
       " '\\\\ttest.py',\n",
       " '',\n",
       " 'no changes added to commit (use \"git add\" and/or \"git commit -a\")',\n",
       " \"'\"]"
      ]
     },
     "metadata": {},
     "execution_count": 94
    }
   ],
   "source": [
    "c.split('Changes not staged for commit:')[1][1:].split(\"\\\\n\")#[2].replace('\\\\tmodified:   ','')"
   ]
  },
  {
   "cell_type": "code",
   "execution_count": 97,
   "metadata": {},
   "outputs": [
    {
     "output_type": "execute_result",
     "data": {
      "text/plain": [
       "True"
      ]
     },
     "metadata": {},
     "execution_count": 97
    }
   ],
   "source": [
    "'Untracked files:' in c.split('\\\\n')"
   ]
  },
  {
   "cell_type": "code",
   "execution_count": 104,
   "metadata": {},
   "outputs": [],
   "source": [
    "c = command('git status')\n",
    "if 'Changes not staged for commit:' in c.split('\\\\n'):\n",
    "    f = c.split('Changes not staged for commit:')[1][1:].split(\"\\\\n\")\n",
    "    lf = []\n",
    "    checker = None\n",
    "    for e in f:\n",
    "        z = e.replace('\\\\t','')\n",
    "        if re.findall('modified:.*',z):\n",
    "            lf.append(e.replace('\\\\tmodified:   ',''))"
   ]
  },
  {
   "cell_type": "code",
   "execution_count": 106,
   "metadata": {},
   "outputs": [
    {
     "output_type": "execute_result",
     "data": {
      "text/plain": [
       "['anime_webScrapping/main.py', 'anime_webScrapping/testHtml.py']"
      ]
     },
     "metadata": {},
     "execution_count": 106
    }
   ],
   "source": [
    "lf"
   ]
  },
  {
   "cell_type": "code",
   "execution_count": 1,
   "metadata": {},
   "outputs": [],
   "source": [
    "from Gitfy import Gitfy"
   ]
  },
  {
   "cell_type": "code",
   "execution_count": 3,
   "metadata": {},
   "outputs": [
    {
     "output_type": "stream",
     "name": "stdout",
     "text": [
      "lists of New files that can be added: ['README.md']\n"
     ]
    }
   ],
   "source": [
    "Gitfy().addFiles(force=True)"
   ]
  },
  {
   "cell_type": "code",
   "execution_count": 2,
   "metadata": {},
   "outputs": [
    {
     "output_type": "execute_result",
     "data": {
      "text/plain": [
       "[]"
      ]
     },
     "metadata": {},
     "execution_count": 2
    }
   ],
   "source": [
    "Gitfy().getNewFiles()"
   ]
  },
  {
   "cell_type": "code",
   "execution_count": 2,
   "metadata": {},
   "outputs": [],
   "source": [
    "Gitfy().gitPush()"
   ]
  },
  {
   "cell_type": "code",
   "execution_count": null,
   "metadata": {},
   "outputs": [],
   "source": []
  },
  {
   "cell_type": "code",
   "execution_count": null,
   "metadata": {},
   "outputs": [],
   "source": []
  },
  {
   "cell_type": "code",
   "execution_count": 5,
   "metadata": {},
   "outputs": [
    {
     "output_type": "execute_result",
     "data": {
      "text/plain": [
       "'b\"Branch \\'master\\' set up to track remote branch \\'master\\' from \\'orgin\\'.\\\\n\"'"
      ]
     },
     "metadata": {},
     "execution_count": 5
    }
   ],
   "source": [
    "command('git push -uf orgin master')"
   ]
  },
  {
   "cell_type": "code",
   "execution_count": null,
   "metadata": {},
   "outputs": [],
   "source": []
  },
  {
   "cell_type": "code",
   "execution_count": null,
   "metadata": {},
   "outputs": [],
   "source": []
  },
  {
   "cell_type": "code",
   "execution_count": null,
   "metadata": {},
   "outputs": [],
   "source": []
  }
 ]
}